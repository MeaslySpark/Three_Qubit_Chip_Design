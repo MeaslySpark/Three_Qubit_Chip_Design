{
 "cells": [
  {
   "cell_type": "markdown",
   "id": "662e5447",
   "metadata": {},
   "source": [
    "## Chip Design\n"
   ]
  },
  {
   "cell_type": "code",
   "execution_count": 1,
   "id": "6990c6ab",
   "metadata": {},
   "outputs": [],
   "source": [
    "%load_ext autoreload\n",
    "%autoreload 2"
   ]
  },
  {
   "cell_type": "code",
   "execution_count": 2,
   "id": "d91f8d63",
   "metadata": {},
   "outputs": [],
   "source": [
    "import qiskit_metal as metal\n",
    "from qiskit_metal import designs, draw\n",
    "from qiskit_metal import MetalGUI, open_docs, Dict\n",
    "\n",
    "from qiskit_metal.qlibrary.qubits.transmon_pocket import TransmonPocket\n",
    "\n",
    "from qiskit_metal.qlibrary.tlines.meandered import RouteMeander\n",
    "from qiskit_metal.qlibrary.tlines.pathfinder import RoutePathfinder\n",
    "from qiskit_metal.qlibrary.tlines.anchored_path import RouteAnchors\n",
    "\n",
    "from qiskit_metal.qlibrary.terminations.launchpad_wb import LaunchpadWirebond\n",
    "from qiskit_metal.qlibrary.terminations.launchpad_wb_coupled import LaunchpadWirebondCoupled"
   ]
  },
  {
   "cell_type": "code",
   "execution_count": 3,
   "id": "0d17ec84",
   "metadata": {},
   "outputs": [],
   "source": [
    "from qiskit_metal.qlibrary.qubits.transmon_pocket_6 import TransmonPocket6\n",
    "from qiskit_metal.qlibrary.qubits.transmon_cross_fl import TransmonCrossFL\n",
    "\n",
    "from qiskit_metal.qlibrary.couplers.tunable_coupler_01 import TunableCoupler01\n",
    "\n",
    "from qiskit_metal.qlibrary.tlines.meandered import RouteMeander\n",
    "from qiskit_metal.qlibrary.tlines.pathfinder import RoutePathfinder\n",
    "from qiskit_metal.qlibrary.tlines.anchored_path import RouteAnchors\n",
    "from qiskit_metal.qlibrary.tlines.straight_path import RouteStraight\n",
    "\n",
    "from qiskit_metal.qlibrary.lumped.cap_n_interdigital import CapNInterdigital\n",
    "from qiskit_metal.qlibrary.couplers.cap_n_interdigital_tee import CapNInterdigitalTee\n",
    "from qiskit_metal.qlibrary.couplers.coupled_line_tee import CoupledLineTee\n",
    "\n",
    "from qiskit_metal.qlibrary.terminations.launchpad_wb import LaunchpadWirebond\n",
    "from qiskit_metal.qlibrary.terminations.launchpad_wb_coupled import LaunchpadWirebondCoupled"
   ]
  },
  {
   "cell_type": "code",
   "execution_count": 4,
   "id": "486a1c85",
   "metadata": {},
   "outputs": [
    {
     "data": {
      "text/plain": [
       "{'material': 'silicon',\n",
       " 'layer_start': '0',\n",
       " 'layer_end': '2048',\n",
       " 'size': {'center_x': '0.0mm',\n",
       "  'center_y': '0.0mm',\n",
       "  'center_z': '0.0mm',\n",
       "  'size_x': '9mm',\n",
       "  'size_y': '6mm',\n",
       "  'size_z': '-750um',\n",
       "  'sample_holder_top': '890um',\n",
       "  'sample_holder_bottom': '1650um'}}"
      ]
     },
     "execution_count": 4,
     "metadata": {},
     "output_type": "execute_result"
    }
   ],
   "source": [
    "design = designs.DesignPlanar()\n",
    "design.overwrite_enabled = True\n",
    "design.chips.main"
   ]
  },
  {
   "cell_type": "code",
   "execution_count": 5,
   "id": "bdc9d3ae",
   "metadata": {},
   "outputs": [
    {
     "name": "stderr",
     "output_type": "stream",
     "text": [
      "12:35PM 35s CRITICAL [_qt_message_handler]: line: 0, func: None(), file: None  WARNING: Populating font family aliases took 129 ms. Replace uses of missing font family \"Courier\" with one that exists to avoid this cost. \n",
      "\n"
     ]
    }
   ],
   "source": [
    "design.chips.main.size.size_x = '11mm'\n",
    "design.chips.main.size.size_y = '9mm'\n",
    "\n",
    "gui = MetalGUI(design)"
   ]
  },
  {
   "cell_type": "code",
   "execution_count": 6,
   "id": "5c46ea3a",
   "metadata": {},
   "outputs": [],
   "source": [
    "# creating transmons 0,1,2 constituting in one row\n",
    "q0 = TransmonPocket(design, 'Q0', options = dict(pos_x = '-3mm', pos_y = '1mm', pad_width = '425um', pocket_height = '650um',\n",
    "                                                connection_pads = dict(\n",
    "                                                    readout = dict(loc_W = -1, loc_H = +1, pad_width = '50um'),\n",
    "                                                    bus_01 = dict(loc_W = +1, loc_H = -1, pad_width = '50um'),\n",
    "                                                    bus_02 = dict(loc_W = 1, loc_H = 1, pad_width = '60um', pad_gap = '10um')\n",
    "                                                )\n",
    "                                                ))\n",
    "\n",
    "q1 = TransmonPocket(design, 'Q1', options = dict(pos_x = '0mm', pos_y = '1mm', pad_width = '425um', pocket_height = '650um',\n",
    "                                                connection_pads = dict(\n",
    "                                                    bus_02 = dict(loc_W = -1, loc_H = -1, pad_width = '50um'),\n",
    "                                                    bus_01 = dict(loc_W = 1, loc_H = +1, pad_width = '50um',pad_gap = '10um'),\n",
    "                                                    readout = dict(loc_W = -1, loc_H = +1, pad_width = '50um', pad_gap = '10um'),\n",
    "                                                    bus_03 = dict(loc_W = 1, loc_H = -1, pad_width = '50um', pad_gap = '10um')\n",
    "                                                )\n",
    "                                                ))\n",
    "\n",
    "q2 = TransmonPocket(design, 'Q2', options = dict(pos_x = '3mm', pos_y = '1mm', pad_width = '425um', pocket_height = '650um',\n",
    "                                                connection_pads = dict(\n",
    "                                                    readout = dict(loc_W = +1, loc_H = +1, pad_width = '50um'),\n",
    "                                                    bus_01 = dict(loc_W = -1, loc_H = -1, pad_width = '50um',),\n",
    "                                                    bus_02 = dict(loc_W = -1, loc_H = 1, pad_width = '60um', pad_gap = '10um')\n",
    "                                                )\n",
    "                                                ))\n",
    "\n",
    "gui.rebuild()\n",
    "gui.autoscale()\n",
    "\n"
   ]
  },
  {
   "cell_type": "code",
   "execution_count": 7,
   "id": "d5832897",
   "metadata": {},
   "outputs": [],
   "source": [
    "# creating qubits 3, 4 for 2nd row\n",
    "from qiskit_metal.qlibrary.qubits.transmon_pocket_6 import TransmonPocket6\n",
    "q3 = TransmonPocket6(design, 'Q3', options = dict(pos_x = '-1mm', pos_y = '-1mm', pad_width = '425um', pocket_height = '650um',\n",
    "                                                 orientation = '90',\n",
    "                                                  connection_pads = dict(\n",
    "                                                    readout = dict(loc_W = 0, loc_H = +1, pad_width = '60um', pad_gap = '10um'),\n",
    "                                                    bus_01 = dict(loc_W = -1, loc_H = -1, pad_width = '50um', pad_gap = '10um'),\n",
    "                                                    bus_02 = dict(loc_W = -1, loc_H = +1, pad_width = '50um', pad_gap = '10um'),\n",
    "                                                    bus_03 = dict(loc_W = 0, loc_H = -1, pad_width = '60um', pad_gap = '10um'),\n",
    "                                                    bus_04 = dict(loc_W = +1, loc_H = +1, pad_width = '50um', pad_gap = '10um'),\n",
    "                                                    bus_05 = dict(loc_W = +1, loc_H = -1, pad_width = '50um', pad_gap = '10um')  \n",
    "                                                    \n",
    "                                                )\n",
    "                                                ))\n",
    "\n",
    "q4 = TransmonPocket6(design, 'Q4', options = dict(pos_x = '+1mm', pos_y = '-1mm', pad_width = '425um', pocket_height = '650um',\n",
    "                                                 orientation = '90',\n",
    "                                                  connection_pads = dict(\n",
    "                                                    readout = dict(loc_W = 0, loc_H = -1, pad_width = '60um', pad_gap = '10um'),\n",
    "                                                    bus_01 = dict(loc_W = +1, loc_H = +1, pad_width = '50um', pad_gap = '10um'),\n",
    "                                                    bus_02 = dict(loc_W = +1, loc_H = -1, pad_width = '50um', pad_gap = '10um'),\n",
    "                                                    bus_03 = dict(loc_W = 0, loc_H = +1, pad_width = '60um', pad_gap = '10um'),\n",
    "                                                    bus_04 = dict(loc_W = -1, loc_H = -1, pad_width = '50um', pad_gap = '10um'),\n",
    "                                                    bus_05 = dict(loc_W = -1, loc_H = +1, pad_width = '50um', pad_gap = '10um')  \n",
    "                                                    \n",
    "                                                )\n",
    "                                                ))\n",
    "\n",
    "\n",
    "gui.rebuild()\n",
    "gui.autoscale()\n"
   ]
  },
  {
   "cell_type": "code",
   "execution_count": 8,
   "id": "98ce2465",
   "metadata": {},
   "outputs": [],
   "source": [
    "# designing transmon qubits for row 3 which are 5, 6, 7\n",
    "q5 = TransmonPocket(design, 'Q5', options = dict(pos_x = '-3mm', pos_y = '-3mm', pad_width = '425um', pocket_height = '650um',\n",
    "                                               connection_pads = dict(\n",
    "                                                   readout = dict(loc_W = -1, loc_H = -1, pad_width = '50um', pad_gap = '10um'),\n",
    "                                                   bus_01 = dict(loc_W = +1, loc_H = -1, pad_width = '60um', pad_gap = '10um'),\n",
    "                                                   bus_02 = dict(loc_W = +1, loc_H = +1, pad_width = '50um')\n",
    "                                               )\n",
    "                                               ))\n",
    "\n",
    "q6 = TransmonPocket(design, 'Q6', options = dict(pos_x = '0mm', pos_y = '-3mm', pad_width = '425um', pocket_height = '650um',\n",
    "                                               connection_pads = dict(\n",
    "                                                   bus_02 = dict(loc_W = -1, loc_H = +1, pad_width = '50um', pad_gap = '10um'),\n",
    "                                                   bus_01 = dict(loc_W = +1, loc_H = -1, pad_width = '50um', pad_gap = '10um'),\n",
    "                                                   readout = dict(loc_W = -1, loc_H = -1, pad_width = '50um', pad_gap = '10um'),\n",
    "                                                   bus_03 = dict(loc_W = +1, loc_H = +1, pad_width = '50um', pad_gap = '10um'), \n",
    "                                               )\n",
    "                                               ))\n",
    "\n",
    "q7 = TransmonPocket(design, 'Q7', options = dict(pos_x = '3mm', pos_y = '-3mm', pad_width = '425um', pocket_height = '650um',\n",
    "                                               connection_pads = dict(\n",
    "                                                   readout = dict(loc_W = 1, loc_H = -1, pad_width = '50um', pad_gap = '10um'),\n",
    "                                                   bus_01 = dict(loc_W = -1, loc_H = -1, pad_width = '60um', pad_gap = '10um'),\n",
    "                                                   bus_02 = dict(loc_W = -1, loc_H = +1, pad_width = '50um')\n",
    "                                               )\n",
    "                                               ))\n",
    "gui.rebuild()\n",
    "gui.autoscale()"
   ]
  },
  {
   "cell_type": "code",
   "execution_count": 9,
   "id": "d40822f5",
   "metadata": {},
   "outputs": [
    {
     "data": {
      "text/plain": [
       "{'chip': 'main',\n",
       " 'layer': '1',\n",
       " 'pin_inputs': {'start_pin': {'component': '', 'pin': ''},\n",
       "  'end_pin': {'component': '', 'pin': ''}},\n",
       " 'fillet': '0',\n",
       " 'lead': {'start_straight': '0mm',\n",
       "  'end_straight': '0mm',\n",
       "  'start_jogged_extension': '',\n",
       "  'end_jogged_extension': ''},\n",
       " 'total_length': '7mm',\n",
       " 'trace_width': 'cpw_width',\n",
       " 'meander': {'spacing': '200um', 'asymmetry': '0um'},\n",
       " 'snap': 'true',\n",
       " 'prevent_short_edges': 'true',\n",
       " 'hfss_wire_bonds': False,\n",
       " 'q3d_wire_bonds': False}"
      ]
     },
     "execution_count": 9,
     "metadata": {},
     "output_type": "execute_result"
    }
   ],
   "source": [
    "RouteMeander.get_template_options(design)"
   ]
  },
  {
   "cell_type": "markdown",
   "id": "e4e8aa6b",
   "metadata": {},
   "source": [
    "# How to make connections?"
   ]
  },
  {
   "cell_type": "code",
   "execution_count": 10,
   "id": "2e468f6b",
   "metadata": {},
   "outputs": [],
   "source": [
    "from qiskit_metal.analyses.em.cpw_calculations import guided_wavelength\n",
    "\n",
    "def find_resonator_length(frequency, line_width, line_gap, N): \n",
    "    #frequency in GHz\n",
    "    #line_width/line_gap in um\n",
    "    #N -> 2 for lambda/2, 4 for lambda/4\n",
    "    \n",
    "    [lambdaG, etfSqrt, q] = guided_wavelength(frequency*10**9, line_width*10**-6,\n",
    "                                              line_gap*10**-6, 750*10**-6, 200*10**-9)\n",
    "    return str(lambdaG/N*10**3)+\" mm\""
   ]
  },
  {
   "cell_type": "code",
   "execution_count": 11,
   "id": "67bc497f",
   "metadata": {},
   "outputs": [],
   "source": [
    "fillet='99.99um'\n",
    "cpw_options = Dict(\n",
    "    lead=Dict(\n",
    "        start_straight='100um',\n",
    "        end_straight='250um'),\n",
    "    fillet=fillet\n",
    "    )"
   ]
  },
  {
   "cell_type": "code",
   "execution_count": 12,
   "id": "f6c742d9",
   "metadata": {},
   "outputs": [],
   "source": [
    "def connect(cpw_name: str, pin1_comp_name: str, pin1_comp_pin: str, pin2_comp_name: str, pin2_comp_pin: str,\n",
    "            length: str, asymmetry='0 um'):\n",
    "    \"\"\"Connect two pins with a CPW.\"\"\"\n",
    "    myoptions = Dict(\n",
    "        pin_inputs=Dict(\n",
    "            start_pin=Dict(\n",
    "                component=pin1_comp_name,\n",
    "                pin=pin1_comp_pin),\n",
    "            end_pin=Dict(\n",
    "                component=pin2_comp_name,\n",
    "                pin=pin2_comp_pin)),\n",
    "        total_length=length)\n",
    "    myoptions.update(cpw_options)\n",
    "    myoptions.meander.asymmetry = asymmetry\n",
    "    return RouteMeander(design, cpw_name, myoptions)"
   ]
  },
  {
   "cell_type": "code",
   "execution_count": 13,
   "id": "2f33419f",
   "metadata": {},
   "outputs": [],
   "source": [
    "def connect_straight(cpw_name: str, pin1_comp_name: str, pin1_comp_pin: str, pin2_comp_name: str, pin2_comp_pin: str,\n",
    "            length: str, asymmetry='0 um'):\n",
    "    \"\"\"Connect two pins with a CPW.\"\"\"\n",
    "    myoptions = Dict(\n",
    "        pin_inputs=Dict(\n",
    "            start_pin=Dict(\n",
    "                component=pin1_comp_name,\n",
    "                pin=pin1_comp_pin),\n",
    "            end_pin=Dict(\n",
    "                component=pin2_comp_name,\n",
    "                pin=pin2_comp_pin)),\n",
    "        total_length=length)\n",
    "    myoptions.update(cpw_options)\n",
    "    myoptions.meander.asymmetry = asymmetry\n",
    "    return RouteStraight(design, cpw_name, myoptions)"
   ]
  },
  {
   "cell_type": "code",
   "execution_count": 14,
   "id": "0ec8ebe3",
   "metadata": {},
   "outputs": [],
   "source": [
    "def connect_finder(cpw_name: str, pin1_comp_name: str, pin1_comp_pin: str, pin2_comp_name: str, pin2_comp_pin: str,\n",
    "            length: str, asymmetry='0 um'):\n",
    "    \"\"\"Connect two pins with a CPW.\"\"\"\n",
    "    myoptions = Dict(\n",
    "        pin_inputs=Dict(\n",
    "            start_pin=Dict(\n",
    "                component=pin1_comp_name,\n",
    "                pin=pin1_comp_pin),\n",
    "            end_pin=Dict(\n",
    "                component=pin2_comp_name,\n",
    "                pin=pin2_comp_pin)),\n",
    "        total_length=length)\n",
    "    myoptions.update(cpw_options)\n",
    "    myoptions.meander.asymmetry = asymmetry\n",
    "    return RoutePathfinder(design, cpw_name, myoptions)"
   ]
  },
  {
   "cell_type": "code",
   "execution_count": 17,
   "id": "7834b87f",
   "metadata": {},
   "outputs": [
    {
     "name": "stderr",
     "output_type": "stream",
     "text": [
      "12:36PM 01s WARNING [check_lengths]: For path table, component=cpw15, key=trace has short segments that could cause issues with fillet. Values in (29-30)  are index(es) in shapely geometry.\n",
      "12:36PM 01s WARNING [check_lengths]: For path table, component=cpw15, key=cut has short segments that could cause issues with fillet. Values in (29-30)  are index(es) in shapely geometry.\n",
      "12:36PM 01s WARNING [check_lengths]: For path table, component=cpw17, key=trace has short segments that could cause issues with fillet. Values in (9-10)  are index(es) in shapely geometry.\n",
      "12:36PM 01s WARNING [check_lengths]: For path table, component=cpw17, key=cut has short segments that could cause issues with fillet. Values in (9-10)  are index(es) in shapely geometry.\n",
      "12:36PM 01s WARNING [check_lengths]: For path table, component=cpw22, key=trace has short segments that could cause issues with fillet. Values in (29-30)  are index(es) in shapely geometry.\n",
      "12:36PM 01s WARNING [check_lengths]: For path table, component=cpw22, key=cut has short segments that could cause issues with fillet. Values in (29-30)  are index(es) in shapely geometry.\n",
      "12:36PM 01s WARNING [check_lengths]: For path table, component=cpw28, key=trace has short segments that could cause issues with fillet. Values in (1-2)  are index(es) in shapely geometry.\n",
      "12:36PM 01s WARNING [check_lengths]: For path table, component=cpw28, key=cut has short segments that could cause issues with fillet. Values in (1-2)  are index(es) in shapely geometry.\n",
      "12:36PM 01s WARNING [check_lengths]: For path table, component=cpw29, key=trace has short segments that could cause issues with fillet. Values in (1-2)  are index(es) in shapely geometry.\n",
      "12:36PM 01s WARNING [check_lengths]: For path table, component=cpw29, key=cut has short segments that could cause issues with fillet. Values in (1-2)  are index(es) in shapely geometry.\n",
      "12:36PM 02s WARNING [check_lengths]: For path table, component=cpw31, key=trace has short segments that could cause issues with fillet. Values in (1-2)  are index(es) in shapely geometry.\n",
      "12:36PM 02s WARNING [check_lengths]: For path table, component=cpw31, key=cut has short segments that could cause issues with fillet. Values in (1-2)  are index(es) in shapely geometry.\n",
      "12:36PM 02s WARNING [check_lengths]: For path table, component=cpw32, key=trace has short segments that could cause issues with fillet. Values in (1-2)  are index(es) in shapely geometry.\n",
      "12:36PM 02s WARNING [check_lengths]: For path table, component=cpw32, key=cut has short segments that could cause issues with fillet. Values in (1-2)  are index(es) in shapely geometry.\n",
      "12:36PM 03s WARNING [check_lengths]: For path table, component=cpw15, key=trace has short segments that could cause issues with fillet. Values in (29-30)  are index(es) in shapely geometry.\n",
      "12:36PM 03s WARNING [check_lengths]: For path table, component=cpw15, key=cut has short segments that could cause issues with fillet. Values in (29-30)  are index(es) in shapely geometry.\n",
      "12:36PM 03s WARNING [check_lengths]: For path table, component=cpw17, key=trace has short segments that could cause issues with fillet. Values in (9-10)  are index(es) in shapely geometry.\n",
      "12:36PM 03s WARNING [check_lengths]: For path table, component=cpw17, key=cut has short segments that could cause issues with fillet. Values in (9-10)  are index(es) in shapely geometry.\n",
      "12:36PM 03s WARNING [check_lengths]: For path table, component=cpw22, key=trace has short segments that could cause issues with fillet. Values in (29-30)  are index(es) in shapely geometry.\n",
      "12:36PM 03s WARNING [check_lengths]: For path table, component=cpw22, key=cut has short segments that could cause issues with fillet. Values in (29-30)  are index(es) in shapely geometry.\n",
      "12:36PM 03s WARNING [check_lengths]: For path table, component=cpw28, key=trace has short segments that could cause issues with fillet. Values in (1-2)  are index(es) in shapely geometry.\n",
      "12:36PM 03s WARNING [check_lengths]: For path table, component=cpw28, key=cut has short segments that could cause issues with fillet. Values in (1-2)  are index(es) in shapely geometry.\n",
      "12:36PM 03s WARNING [check_lengths]: For path table, component=cpw29, key=trace has short segments that could cause issues with fillet. Values in (1-2)  are index(es) in shapely geometry.\n",
      "12:36PM 03s WARNING [check_lengths]: For path table, component=cpw29, key=cut has short segments that could cause issues with fillet. Values in (1-2)  are index(es) in shapely geometry.\n",
      "12:36PM 04s WARNING [check_lengths]: For path table, component=cpw31, key=trace has short segments that could cause issues with fillet. Values in (1-2)  are index(es) in shapely geometry.\n",
      "12:36PM 04s WARNING [check_lengths]: For path table, component=cpw31, key=cut has short segments that could cause issues with fillet. Values in (1-2)  are index(es) in shapely geometry.\n",
      "12:36PM 04s WARNING [check_lengths]: For path table, component=cpw32, key=trace has short segments that could cause issues with fillet. Values in (1-2)  are index(es) in shapely geometry.\n",
      "12:36PM 04s WARNING [check_lengths]: For path table, component=cpw32, key=cut has short segments that could cause issues with fillet. Values in (1-2)  are index(es) in shapely geometry.\n"
     ]
    }
   ],
   "source": [
    "asym = 500\n",
    "asym_1 = 100\n",
    "asym_2 = -500\n",
    "asym_3 = 50 \n",
    "asym_4 = 200\n",
    "asym_5 = 100\n",
    "asym_7 = 100\n",
    "asym_9 = -500\n",
    "asym_10 = 200\n",
    "asym_11 = -500\n",
    "asym_13 = -100\n",
    "asym_14 = -100\n",
    "asym_19 = -100\n",
    "asym_20 = -100\n",
    "asym_21 = asym_23 = asym_25 = asym_16 = asym_18 = -100\n",
    "asym_15 = 100\n",
    "asym_27 = -150\n",
    "asym_30 = 500\n",
    "offset_tm = 69  #we the transmon slightly out of center-line\n",
    "\n",
    "#cpw1 = connect('cpw1', 'Q0', 'bus_02', 'Q1', 'bus_02', '4000um', f'-{asym_1-1.25*offset_tm}um')\n",
    "cpw2 = connect('cpw2', 'Q0', 'bus_01', 'Q3', 'bus_04', '4000um', f'+{asym_2-1.25*offset_tm}um')\n",
    "cpw3 = connect('cpw3', 'Q1', 'bus_01', 'Q2', 'bus_02', '4000um', f'-{asym_3+0.75*offset_tm}um')\n",
    "cpw4 = connect('cpw4', 'Q1', 'bus_03', 'Q4', 'bus_01', '500um', f'+{asym_4+0.75*offset_tm}um')\n",
    "#cpw5 = connect('cpw5', 'Q5', 'bus_01', 'Q6', 'bus_02', '4000um', f'+{asym_5+0.75*offset_tm}um')\n",
    "cpw6 = connect('cpw6', 'Q5', 'bus_02', 'Q3', 'bus_02', '4000um', f'+{asym+0.75*offset_tm}um')\n",
    "cpw7 = connect('cpw7', 'Q6', 'bus_01', 'Q7', 'bus_01', '4000um', f'+{asym_7+0.75*offset_tm}um')\n",
    "cpw8 = connect('cpw8', 'Q6', 'bus_03', 'Q4', 'bus_05', '4000um', f'+{asym_7+0.75*offset_tm}um')\n",
    "cpw9 = connect('cpw9', 'Q7', 'bus_02', 'Q4', 'bus_04', '4000um', f'+{asym_9+0.75*offset_tm}um')\n",
    "cpw10 = connect('cpw10', 'Q3', 'bus_03', 'Q4', 'bus_03', '500um', f'+{asym_10+0.75*offset_tm}um')\n",
    "cpw11 = connect('cpw11', 'Q4', 'bus_02', 'Q2', 'bus_01', '4000um', f'+{asym_11+0.75*offset_tm}um')\n",
    "cpw12 = connect_straight('cpw12', 'Readout_1', 'tie', 'cap_1', 'prime_end', '4000um', f'+{asym_11+0.75*offset_tm}um')\n",
    "cpw13 = connect('cpw13', 'Q0', 'readout', 'cap_1', 'second_end', '4000um', f'+{asym_13+0.75*offset_tm}um')\n",
    "cpw14 = connect_straight('cpw14', 'cap_1', 'prime_start', 'cap_2', 'prime_end', '4000um', f'+{asym_14+0.75*offset_tm}um')\n",
    "cpw15 = connect('cpw15', 'cap_2', 'second_end', 'Q3', 'readout', '10000um', f'+{asym_15+0.75*offset_tm}um')\n",
    "cpw16 = connect_straight('cpw16', 'cap_2', 'prime_start', 'cap_3', 'prime_end', '4000um', f'+{asym_16+0.75*offset_tm}um')\n",
    "cpw17 = connect('cpw17', 'cap_3', 'second_end', 'Q5', 'readout', '4000um', f'+{asym_15+0.75*offset_tm}um')\n",
    "cpw18 = connect_straight('cpw18', 'cap_3', 'prime_start', 'Readout_2', 'tie', '4000um', f'+{asym_18+0.75*offset_tm}um')\n",
    "\n",
    "\n",
    "cpw19 = connect_straight('cpw19', 'Readout_4', 'tie', 'cap_4', 'prime_end', '4000um', f'+{asym_19+0.75*offset_tm}um')\n",
    "cpw20 = connect('cpw20', 'Q2', 'readout', 'cap_4', 'second_end', '4000um', f'+{asym_20+0.75*offset_tm}um')\n",
    "cpw21 = connect_straight('cpw21', 'cap_4', 'prime_start', 'cap_5', 'prime_end', '4000um', f'+{asym_21+0.75*offset_tm}um')\n",
    "cpw22 = connect('cpw22', 'cap_5', 'second_end', 'Q4', 'readout', '10000um', f'+{asym_15+0.75*offset_tm}um')\n",
    "cpw23 = connect_straight('cpw23', 'cap_5', 'prime_start', 'cap_6', 'prime_end', '4000um', f'+{asym_23+0.75*offset_tm}um')\n",
    "cpw24 = connect('cpw24', 'cap_6', 'second_end', 'Q7', 'readout', '4000um', f'+{asym_15+0.75*offset_tm}um')\n",
    "cpw25 = connect_straight('cpw25', 'cap_6', 'prime_start', 'Readout_3', 'tie', '4000um', f'+{asym_25+0.75*offset_tm}um')\n",
    "\n",
    "\n",
    "\n",
    "\n",
    "cpw26 = connect_straight('cpw26', 'Readout_5', 'tie', 'Q6', 'readout', '2000um', f'+{asym_15+0.75*offset_tm}um')\n",
    "\n",
    "cpw27 = connect_finder('cpw27', 'Readout_6', 'tie', 'Q1', 'readout', '50um', f'+{asym_27+0.75*offset_tm}um')\n",
    "\n",
    "cpw28 = connect_finder('cpw28', 'cap_7', 'prime_end', 'Q5', 'bus_01', '50um', f'+{asym_27+0.75*offset_tm}um')\n",
    "cpw29 = connect_finder('cpw29', 'cap_7', 'prime_start', 'Q6', 'bus_02', '50um', f'+{asym_27+0.75*offset_tm}um')\n",
    "cpw30 = connect_finder('cpw30', 'cap_7', 'second_end', 'Q3', 'bus_01', '100um', f'+{asym_30+0.75*offset_tm}um')\n",
    "\n",
    "\n",
    "cpw31 = connect_finder('cpw31', 'cap_8', 'prime_end', 'Q1', 'bus_02', '50um', f'+{asym_27+0.75*offset_tm}um')\n",
    "cpw32 = connect_finder('cpw32', 'cap_8', 'prime_start', 'Q0', 'bus_02', '50um', f'+{asym_27+0.75*offset_tm}um')\n",
    "cpw33 = connect_finder('cpw33', 'cap_8', 'second_end', 'Q3', 'bus_05', '500um', f'+{asym_30+0.75*offset_tm}um')\n",
    "\n",
    "\n",
    "\n",
    "\n",
    "gui.rebuild()\n",
    "gui.autoscale()"
   ]
  },
  {
   "cell_type": "code",
   "execution_count": 165,
   "id": "04479b1d",
   "metadata": {},
   "outputs": [],
   "source": [
    "#Launch Pad "
   ]
  },
  {
   "cell_type": "code",
   "execution_count": 15,
   "id": "1c86443d",
   "metadata": {},
   "outputs": [],
   "source": [
    "Readout_1 = LaunchpadWirebondCoupled(design, 'Readout_1', options = dict(pos_x = '-5mm', pos_y ='2mm', orientation = '270'))\n",
    "Readout_2 = LaunchpadWirebondCoupled(design, 'Readout_2', options = dict(pos_x = '-5mm', pos_y ='-4mm', orientation = '90'))\n",
    "Readout_3 = LaunchpadWirebondCoupled(design, 'Readout_3', options = dict(pos_x = '5mm', pos_y ='-4mm', orientation = '90'))\n",
    "Readout_4 = LaunchpadWirebondCoupled(design, 'Readout_4', options = dict(pos_x = '5mm', pos_y ='2mm', orientation = '270'))\n",
    "Readout_5 = LaunchpadWirebondCoupled(design, 'Readout_5', options = dict(pos_x = '-0.67mm', pos_y ='-4mm', orientation = '90'))\n",
    "Readout_6 = LaunchpadWirebondCoupled(design, 'Readout_6', options = dict(pos_x = '-0.37mm', pos_y ='2mm', orientation = '270'))\n",
    "\n",
    "\n",
    "gui.rebuild()\n",
    "gui.autoscale()"
   ]
  },
  {
   "cell_type": "code",
   "execution_count": 16,
   "id": "dea1ee24",
   "metadata": {},
   "outputs": [],
   "source": [
    "cap_1 = CapNInterdigitalTee(design,'cap_1', options=dict(pos_x = '-5mm', pos_y = '1mm', \n",
    "                                                           orientation = '90', \n",
    "                                                           finger_length = '0um', \n",
    "                                                           finger_count = '8'))\n",
    "\n",
    "cap_2 = CapNInterdigitalTee(design,'cap_2', options=dict(pos_x = '-5mm', pos_y = '-1mm', \n",
    "                                                           orientation = '90', \n",
    "                                                           finger_length = '0um', \n",
    "                                                           finger_count = '8'))\n",
    "\n",
    "cap_3 = CapNInterdigitalTee(design,'cap_3', options=dict(pos_x = '-5mm', pos_y = '-3mm', \n",
    "                                                           orientation = '90', \n",
    "                                                           finger_length = '0um', \n",
    "                                                           finger_count = '8'))\n",
    "\n",
    "\n",
    "cap_4 = CapNInterdigitalTee(design,'cap_4', options=dict(pos_x = '5mm', pos_y = '1mm', \n",
    "                                                           orientation = '270', \n",
    "                                                           finger_length = '0um', \n",
    "                                                           finger_count = '8'))\n",
    "\n",
    "cap_5 = CapNInterdigitalTee(design,'cap_5', options=dict(pos_x = '5mm', pos_y = '-1mm', \n",
    "                                                           orientation = '270', \n",
    "                                                           finger_length = '0um', \n",
    "                                                           finger_count = '8'))\n",
    "\n",
    "cap_6 = CapNInterdigitalTee(design,'cap_6', options=dict(pos_x = '5mm', pos_y = '-3mm', \n",
    "                                                           orientation = '270', \n",
    "                                                           finger_length = '0um', \n",
    "                                                           finger_count = '8'))\n",
    "\n",
    "cap_7 = CapNInterdigitalTee(design,'cap_7', options=dict(pos_x = '-1.5mm', pos_y = '-3mm', \n",
    "                                                           orientation = '180', \n",
    "                                                           finger_length = '0um', \n",
    "                                                           finger_count = '8'))\n",
    "\n",
    "\n",
    "cap_8 = CapNInterdigitalTee(design,'cap_8', options=dict(pos_x = '-1.2mm', pos_y = '1mm', \n",
    "                                                           orientation = '0', \n",
    "                                                           finger_length = '0um', \n",
    "                                                           finger_count = '8'))\n",
    "\n",
    "\n",
    "gui.rebuild()\n",
    "gui.autoscale()"
   ]
  },
  {
   "cell_type": "code",
   "execution_count": 32,
   "id": "39da66f6",
   "metadata": {},
   "outputs": [],
   "source": [
    "#Connecting Readout and Qubit \n",
    "# cpw12 = connect('cpw12', 'Q0', 'readout', 'Readout_1', 'tie', '4000um', f'+{asym_11+0.75*offset_tm}um')\n",
    "# cpw13 = connect('cpw13', 'Q5', 'readout', 'Readout_2', 'tie', '4000um', f'+{asym_11+0.75*offset_tm}um')\n",
    "\n",
    "\n",
    "# gui.rebuild()\n",
    "# gui.autoscale()"
   ]
  },
  {
   "cell_type": "markdown",
   "id": "b0482c92",
   "metadata": {},
   "source": [
    "## Formula for deciding the resonators length"
   ]
  },
  {
   "cell_type": "code",
   "execution_count": null,
   "id": "063e8866",
   "metadata": {},
   "outputs": [],
   "source": [
    "from qiskit_metal.analyses.em.cpw_calculations import guided_wavelength\n",
    "\n",
    "def find_resonator_length(frequency, line_width, line_gap, N): \n",
    "    #frequency in GHz\n",
    "    #line_width/line_gap in um\n",
    "    #N -> 2 for lambda/2, 4 for lambda/4\n",
    "    \n",
    "    [lambdaG, etfSqrt, q] = guided_wavelength(frequency*10**9, line_width*10**-6,\n",
    "                                              line_gap*10**-6, 750*10**-6, 200*10**-9)\n",
    "    return str(lambdaG/N*10**3)+\" mm\""
   ]
  }
 ],
 "metadata": {
  "kernelspec": {
   "display_name": "qiskitmetal",
   "language": "python",
   "name": "qiskitmetal"
  },
  "language_info": {
   "codemirror_mode": {
    "name": "ipython",
    "version": 3
   },
   "file_extension": ".py",
   "mimetype": "text/x-python",
   "name": "python",
   "nbconvert_exporter": "python",
   "pygments_lexer": "ipython3",
   "version": "3.11.5"
  }
 },
 "nbformat": 4,
 "nbformat_minor": 5
}
